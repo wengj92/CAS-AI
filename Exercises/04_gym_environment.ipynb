{
 "cells": [
  {
   "cell_type": "markdown",
   "id": "b5223c0f",
   "metadata": {},
   "source": [
    "## 04 - Gym Environments (JWE)"
   ]
  },
  {
   "cell_type": "code",
   "execution_count": 1,
   "id": "163ac10f",
   "metadata": {},
   "outputs": [],
   "source": [
    "# import modules\n",
    "import time\n",
    "import numpy as np\n",
    "import matplotlib.pyplot as plt\n",
    "import gym\n",
    "import pygame"
   ]
  },
  {
   "cell_type": "code",
   "execution_count": 2,
   "id": "2fea8843",
   "metadata": {},
   "outputs": [],
   "source": [
    "# import custom moudles\n",
    "from week_04.environment import TicTacToe"
   ]
  },
  {
   "cell_type": "markdown",
   "id": "8361d5cd",
   "metadata": {},
   "source": [
    "### Existing Environment (Cart Pole)"
   ]
  },
  {
   "cell_type": "code",
   "execution_count": 3,
   "id": "0fefb094",
   "metadata": {},
   "outputs": [],
   "source": [
    "# create the cart pole environment\n",
    "env = gym.make('CartPole-v1', render_mode='human')"
   ]
  },
  {
   "cell_type": "code",
   "execution_count": 4,
   "id": "e4b9d5c5",
   "metadata": {},
   "outputs": [
    {
     "name": "stdout",
     "output_type": "stream",
     "text": [
      "Actions Space:      Discrete(2)\n",
      "Observations Space: Box([-4.8000002e+00 -3.4028235e+38 -4.1887903e-01 -3.4028235e+38], [4.8000002e+00 3.4028235e+38 4.1887903e-01 3.4028235e+38], (4,), float32)\n"
     ]
    }
   ],
   "source": [
    "# print size of action & observation space\n",
    "print(f'Actions Space:      {env.action_space}')\n",
    "print(f'Observations Space: {env.observation_space}')"
   ]
  },
  {
   "cell_type": "code",
   "execution_count": 5,
   "id": "99e57907",
   "metadata": {},
   "outputs": [
    {
     "name": "stdout",
     "output_type": "stream",
     "text": [
      "Actions: 0,\tObservations: [ 0.0115743  -0.22414917  0.02541742  0.2637674 ],\tRewards: 1.0\n",
      "Actions: 1,\tObservations: [ 0.00709131 -0.02939907  0.03069277 -0.02079148],\tRewards: 1.0\n",
      "Actions: 0,\tObservations: [ 0.00650333 -0.22494744  0.03027694  0.28141516],\tRewards: 1.0\n",
      "Actions: 0,\tObservations: [ 0.00200438 -0.42048788  0.03590524  0.5834915 ],\tRewards: 1.0\n",
      "Actions: 1,\tObservations: [-0.00640537 -0.22588685  0.04757507  0.30233192],\tRewards: 1.0\n",
      "Actions: 1,\tObservations: [-0.01092311 -0.03147409  0.05362171  0.02502456],\tRewards: 1.0\n",
      "Actions: 1,\tObservations: [-0.01155259  0.1628395   0.0541222  -0.25026968],\tRewards: 1.0\n",
      "Actions: 0,\tObservations: [-0.0082958  -0.03301188  0.04911681  0.0589814 ],\tRewards: 1.0\n",
      "Actions: 0,\tObservations: [-0.00895604 -0.22880241  0.05029643  0.36674753],\tRewards: 1.0\n",
      "Actions: 1,\tObservations: [-0.01353209 -0.03442992  0.05763138  0.09033842],\tRewards: 1.0\n",
      "Actions: 1,\tObservations: [-0.01422069  0.15982065  0.05943815 -0.18361942],\tRewards: 1.0\n",
      "Actions: 1,\tObservations: [-0.01102427  0.354044    0.05576576 -0.45697543],\tRewards: 1.0\n",
      "Actions: 1,\tObservations: [-0.0039434   0.548335    0.04662625 -0.7315723 ],\tRewards: 1.0\n",
      "Actions: 0,\tObservations: [ 0.00702331  0.3526008   0.03199481 -0.4245869 ],\tRewards: 1.0\n",
      "Actions: 0,\tObservations: [ 0.01407532  0.15704058  0.02350307 -0.12199183],\tRewards: 1.0\n",
      "Actions: 1,\tObservations: [ 0.01721613  0.35181805  0.02106323 -0.4071681 ],\tRewards: 1.0\n",
      "Actions: 1,\tObservations: [ 0.02425249  0.5466351   0.01291987 -0.6931367 ],\tRewards: 1.0\n",
      "Actions: 1,\tObservations: [ 3.5185196e-02  7.4157548e-01 -9.4286154e-04 -9.8172450e-01],\tRewards: 1.0\n",
      "Actions: 1,\tObservations: [ 0.0500167   0.93671006 -0.02057735 -1.2747034 ],\tRewards: 1.0\n",
      "Actions: 1,\tObservations: [ 0.0687509   1.1320883  -0.04607142 -1.5737581 ],\tRewards: 1.0\n",
      "Actions: 1,\tObservations: [ 0.09139267  1.3277284  -0.07754658 -1.8804471 ],\tRewards: 1.0\n",
      "Actions: 1,\tObservations: [ 0.11794724  1.5236048  -0.11515553 -2.1961546 ],\tRewards: 1.0\n",
      "Actions: 0,\tObservations: [ 0.14841934  1.3297664  -0.15907861 -1.9411036 ],\tRewards: 1.0\n",
      "Actions: 0,\tObservations: [ 0.17501466  1.1366599  -0.19790068 -1.7016732 ],\tRewards: 1.0\n",
      "Actions: 1,\tObservations: [ 0.19774786  1.3334343  -0.23193415 -2.0488777 ],\tRewards: 1.0\n",
      "-->Terminated: True, Truncated: False\n"
     ]
    }
   ],
   "source": [
    "# reset environment\n",
    "env.reset()\n",
    "\n",
    "# play for max 5 seconds\n",
    "for i in range(50):\n",
    "    # render environment\n",
    "    env.render()\n",
    "    # sample actions\n",
    "    action = env.action_space.sample()\n",
    "    # sample environment\n",
    "    observation, reward, terminated, truncated, info = env.step(action)\n",
    "    print(f'Actions: {action},\\tObservations: {observation},\\tRewards: {reward}')\n",
    "    # check if environment is terminated or truncated and break the loop if this is the case\n",
    "    if terminated or truncated:\n",
    "        print(f'-->Terminated: {terminated}, Truncated: {truncated}')\n",
    "        break\n",
    "    # mini break before next step\n",
    "    time.sleep(0.1)"
   ]
  },
  {
   "cell_type": "code",
   "execution_count": 6,
   "id": "c3f4012f",
   "metadata": {},
   "outputs": [],
   "source": [
    "# close environment\n",
    "env.close()"
   ]
  },
  {
   "cell_type": "markdown",
   "id": "791f9166",
   "metadata": {},
   "source": [
    "### Custom Environment - Tic Tac Toe"
   ]
  },
  {
   "cell_type": "code",
   "execution_count": 47,
   "id": "0b26b6b6",
   "metadata": {},
   "outputs": [],
   "source": [
    "env = TicTacToe(size=3)"
   ]
  },
  {
   "cell_type": "code",
   "execution_count": 48,
   "id": "0abe3b4e",
   "metadata": {},
   "outputs": [
    {
     "name": "stdout",
     "output_type": "stream",
     "text": [
      "Actions Space:      Discrete(9)\n",
      "Observations Space: Box(-1, 1, (3, 3), int32)\n"
     ]
    }
   ],
   "source": [
    "# print size of action & observation space\n",
    "print(f'Actions Space:      {env.action_space}')\n",
    "print(f'Observations Space: {env.observation_space}')"
   ]
  },
  {
   "cell_type": "code",
   "execution_count": 49,
   "id": "c3456fb9",
   "metadata": {},
   "outputs": [
    {
     "name": "stdout",
     "output_type": "stream",
     "text": [
      "Actions: 3,\tObservations: [-1  0  0  1  0 -1  0  0  0],\tRewards: 0\n",
      "Actions: 0,\tObservations: [-1  0  0  1  0 -1  0  0  0],\tRewards: -1\n",
      "Actions: 4,\tObservations: [-1  0  0  1  1 -1 -1  0  0],\tRewards: 0\n",
      "Actions: 0,\tObservations: [-1  0  0  1  1 -1 -1  0  0],\tRewards: -1\n",
      "Actions: 7,\tObservations: [-1  0 -1  1  1 -1 -1  1  0],\tRewards: 0\n",
      "Actions: 2,\tObservations: [-1  0 -1  1  1 -1 -1  1  0],\tRewards: -1\n",
      "Actions: 3,\tObservations: [-1  0 -1  1  1 -1 -1  1  0],\tRewards: -1\n",
      "Actions: 2,\tObservations: [-1  0 -1  1  1 -1 -1  1  0],\tRewards: -1\n",
      "Actions: 2,\tObservations: [-1  0 -1  1  1 -1 -1  1  0],\tRewards: -1\n",
      "Actions: 8,\tObservations: [-1 -1 -1  1  1 -1 -1  1  1],\tRewards: -100\n",
      "-->Terminated: True, Truncated: False\n"
     ]
    }
   ],
   "source": [
    "# reset environment\n",
    "env.reset()\n",
    "\n",
    "# play until game is done\n",
    "while True:\n",
    "    # render environment\n",
    "    env.render()\n",
    "    # sample actions\n",
    "    action = env.action_space.sample()\n",
    "    # sample environment\n",
    "    observation, reward, terminated, truncated, info = env.step(action)\n",
    "    print(f'Actions: {action},\\tObservations: {observation.flatten()},\\tRewards: {reward}')\n",
    "    # check if environment is terminated or truncated and break the loop if this is the case\n",
    "    if terminated or truncated:\n",
    "        print(f'-->Terminated: {terminated}, Truncated: {truncated}')\n",
    "        break\n",
    "    time.sleep(0.02)\n",
    "\n",
    "# render environment\n",
    "env.render()"
   ]
  },
  {
   "cell_type": "code",
   "execution_count": 50,
   "id": "5fe412c4",
   "metadata": {},
   "outputs": [],
   "source": [
    "env.close()"
   ]
  },
  {
   "cell_type": "code",
   "execution_count": null,
   "id": "8df235a3",
   "metadata": {},
   "outputs": [],
   "source": []
  }
 ],
 "metadata": {
  "kernelspec": {
   "display_name": "Python 3 (ipykernel)",
   "language": "python",
   "name": "python3"
  },
  "language_info": {
   "codemirror_mode": {
    "name": "ipython",
    "version": 3
   },
   "file_extension": ".py",
   "mimetype": "text/x-python",
   "name": "python",
   "nbconvert_exporter": "python",
   "pygments_lexer": "ipython3",
   "version": "3.10.7"
  }
 },
 "nbformat": 4,
 "nbformat_minor": 5
}
